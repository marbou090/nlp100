{
 "cells": [
  {
   "cell_type": "code",
   "execution_count": 3,
   "source": [
    "datapath = '../data/popular-names.txt'\r\n",
    "count = 0\r\n",
    "col1=[]\r\n",
    "col2=[]\r\n",
    "with open(datapath) as f:\r\n",
    "    for line in f:\r\n",
    "        txtlist = line.split()\r\n",
    "        col1.append(txtlist[0])\r\n",
    "        col2.append(txtlist[1])\r\n",
    "\r\n",
    "with open('../data/col1.txt',mode='w') as f:\r\n",
    "    f.write('\\n'.join(col1))\r\n",
    "\r\n",
    "with open('../data/col2.txt',mode='w') as f:\r\n",
    "    f.write('\\n'.join(col2))"
   ],
   "outputs": [],
   "metadata": {}
  },
  {
   "cell_type": "code",
   "execution_count": null,
   "source": [],
   "outputs": [],
   "metadata": {}
  }
 ],
 "metadata": {
  "orig_nbformat": 4,
  "language_info": {
   "name": "python",
   "version": "3.7.3",
   "mimetype": "text/x-python",
   "codemirror_mode": {
    "name": "ipython",
    "version": 3
   },
   "pygments_lexer": "ipython3",
   "nbconvert_exporter": "python",
   "file_extension": ".py"
  },
  "kernelspec": {
   "name": "python3",
   "display_name": "Python 3.7.3 64-bit ('base': conda)"
  },
  "interpreter": {
   "hash": "6ad2903d9f8eb78095a8e1054d3b7d96029c25240c1559c5c7674409ebbac066"
  }
 },
 "nbformat": 4,
 "nbformat_minor": 2
}