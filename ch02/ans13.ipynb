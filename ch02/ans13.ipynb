{
 "cells": [
  {
   "cell_type": "code",
   "execution_count": 17,
   "source": [
    "col1=[]\r\n",
    "col2=[]\r\n",
    "\r\n",
    "with open('../data/col1.txt') as f:\r\n",
    "    for line in f:\r\n",
    "        col1.append(line)\r\n",
    "\r\n",
    "with open('../data/col2.txt') as f:\r\n",
    "    for line in f:\r\n",
    "        col2.append(line)\r\n",
    "\r\n",
    "\r\n",
    "col_merge=[]\r\n",
    "for i in range(len(col1)):\r\n",
    "    tmp = col1[i] + col2[i]\r\n",
    "    tmp = tmp.replace('\\n','    ')\r\n",
    "    col_merge.append(tmp)\r\n",
    "\r\n",
    "with open('../data/col1-col2.txt', mode='w') as f:\r\n",
    "    f.write('\\n'.join(col_merge))"
   ],
   "outputs": [],
   "metadata": {}
  },
  {
   "cell_type": "code",
   "execution_count": null,
   "source": [],
   "outputs": [],
   "metadata": {}
  }
 ],
 "metadata": {
  "orig_nbformat": 4,
  "language_info": {
   "name": "python",
   "version": "3.7.3",
   "mimetype": "text/x-python",
   "codemirror_mode": {
    "name": "ipython",
    "version": 3
   },
   "pygments_lexer": "ipython3",
   "nbconvert_exporter": "python",
   "file_extension": ".py"
  },
  "kernelspec": {
   "name": "python3",
   "display_name": "Python 3.7.3 64-bit ('base': conda)"
  },
  "interpreter": {
   "hash": "6ad2903d9f8eb78095a8e1054d3b7d96029c25240c1559c5c7674409ebbac066"
  }
 },
 "nbformat": 4,
 "nbformat_minor": 2
}