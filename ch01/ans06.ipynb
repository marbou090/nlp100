{
 "cells": [
  {
   "cell_type": "code",
   "execution_count": 1,
   "metadata": {},
   "outputs": [],
   "source": [
    "txt1 = \"paraparaparadise\"\n",
    "txt2 = \"paragraph\"\n"
   ]
  },
  {
   "cell_type": "code",
   "execution_count": 9,
   "metadata": {},
   "outputs": [
    {
     "output_type": "stream",
     "name": "stdout",
     "text": "{'ar', 'is', 'e', 'ap', 'ra', 'pa', 'ad', 'di', 'se'}\n{'ar', 'h', 'ap', 'ra', 'gr', 'pa', 'ag', 'ph'}\n"
    }
   ],
   "source": [
    "n_gram = 2\n",
    "X=set()\n",
    "Y=set()\n",
    "for i in range(len(txt1)):\n",
    "    bilist = \"\"\n",
    "    for t in range(n_gram):\n",
    "        if len(txt1) <= i+t:\n",
    "            continue\n",
    "        bilist = bilist + txt1[i+t]\n",
    "    X.add(bilist)\n",
    "print(X)\n",
    "\n",
    "for i in range(len(txt2)):\n",
    "    bilist = \"\"\n",
    "    for t in range(n_gram):\n",
    "        if len(txt2) <= i+t:\n",
    "            continue\n",
    "        bilist = bilist + txt2[i+t]\n",
    "    Y.add(bilist)\n",
    "print(Y)"
   ]
  },
  {
   "cell_type": "code",
   "execution_count": 10,
   "metadata": {},
   "outputs": [
    {
     "output_type": "stream",
     "name": "stdout",
     "text": "和集合 {'ar', 'is', 'e', 'ap', 'ra', 'h', 'gr', 'pa', 'ph', 'ag', 'ad', 'di', 'se'}\n積集合 {'ra', 'ar', 'pa', 'ap'}\n差集合 {'e', 'is', 'ad', 'di', 'se'}\n"
    }
   ],
   "source": [
    "print(\"和集合\",X|Y)\n",
    "print(\"積集合\",X & Y)\n",
    "print(\"差集合\",X - Y)"
   ]
  },
  {
   "cell_type": "code",
   "execution_count": 12,
   "metadata": {},
   "outputs": [
    {
     "output_type": "stream",
     "name": "stdout",
     "text": "False\n"
    }
   ],
   "source": [
    "print('se' in X & Y)"
   ]
  },
  {
   "cell_type": "code",
   "execution_count": null,
   "metadata": {},
   "outputs": [],
   "source": []
  }
 ],
 "metadata": {
  "language_info": {
   "codemirror_mode": {
    "name": "ipython",
    "version": 3
   },
   "file_extension": ".py",
   "mimetype": "text/x-python",
   "name": "python",
   "nbconvert_exporter": "python",
   "pygments_lexer": "ipython3",
   "version": "3.9.1-final"
  },
  "orig_nbformat": 2,
  "kernelspec": {
   "name": "python39164bit401f1b3e3a4043a4bd0aa1286659f779",
   "display_name": "Python 3.9.1 64-bit"
  }
 },
 "nbformat": 4,
 "nbformat_minor": 2
}