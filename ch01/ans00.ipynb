{
 "cells": [
  {
   "cell_type": "code",
   "execution_count": 12,
   "metadata": {},
   "outputs": [
    {
     "output_type": "stream",
     "name": "stdout",
     "text": "desserts\ndesserts\n"
    }
   ],
   "source": [
    "txt = \"stressed\"\n",
    "\n",
    "#スライスで[start:stop:step]\n",
    "print(txt[::-1])\n",
    "#reversedはイテレータを返す\n",
    "hoge = reversed(txt)\n",
    "print(''.join(list(hoge)))"
   ]
  }
 ],
 "metadata": {
  "language_info": {
   "codemirror_mode": {
    "name": "ipython",
    "version": 3
   },
   "file_extension": ".py",
   "mimetype": "text/x-python",
   "name": "python",
   "nbconvert_exporter": "python",
   "pygments_lexer": "ipython3",
   "version": "3.9.1-final"
  },
  "orig_nbformat": 2,
  "kernelspec": {
   "name": "python39164bit401f1b3e3a4043a4bd0aa1286659f779",
   "display_name": "Python 3.9.1 64-bit"
  }
 },
 "nbformat": 4,
 "nbformat_minor": 2
}