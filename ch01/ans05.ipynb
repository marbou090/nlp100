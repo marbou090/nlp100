{
 "cells": [
  {
   "cell_type": "code",
   "execution_count": 1,
   "metadata": {},
   "outputs": [],
   "source": [
    "txt = \"I am an NLPer\""
   ]
  },
  {
   "cell_type": "code",
   "execution_count": 2,
   "metadata": {},
   "outputs": [],
   "source": [
    "sptxt = txt.split(\" \")"
   ]
  },
  {
   "cell_type": "code",
   "execution_count": 3,
   "metadata": {},
   "outputs": [
    {
     "output_type": "stream",
     "name": "stdout",
     "text": "I\nam\n-------\nam\nan\n-------\nan\nNLPer\n-------\nNLPer\n-------\n"
    }
   ],
   "source": [
    "n_gram = 2\n",
    "for i in range(len(sptxt)):\n",
    "    for t in range(n_gram):\n",
    "        if len(sptxt) <= i+t:\n",
    "            continue\n",
    "        print(sptxt[i+t])\n",
    "    print(\"-------\")\n",
    "    "
   ]
  },
  {
   "cell_type": "code",
   "execution_count": 9,
   "metadata": {},
   "outputs": [
    {
     "output_type": "stream",
     "name": "stdout",
     "text": "I\n \n-------\n \na\n-------\na\nm\n-------\nm\n \n-------\n \na\n-------\na\nn\n-------\nn\n \n-------\n \nN\n-------\nN\nL\n-------\nL\nP\n-------\nP\ne\n-------\ne\nr\n-------\nr\n-------\n"
    }
   ],
   "source": [
    "n_gram = 2\n",
    "for i in range(len(txt)):\n",
    "    for t in range(n_gram):\n",
    "        if len(txt) <= i+t:\n",
    "            continue\n",
    "        print(txt[i+t])\n",
    "    print(\"-------\")"
   ]
  },
  {
   "cell_type": "code",
   "execution_count": null,
   "metadata": {},
   "outputs": [],
   "source": []
  }
 ],
 "metadata": {
  "language_info": {
   "codemirror_mode": {
    "name": "ipython",
    "version": 3
   },
   "file_extension": ".py",
   "mimetype": "text/x-python",
   "name": "python",
   "nbconvert_exporter": "python",
   "pygments_lexer": "ipython3",
   "version": "3.9.1-final"
  },
  "orig_nbformat": 2,
  "kernelspec": {
   "name": "python39164bit401f1b3e3a4043a4bd0aa1286659f779",
   "display_name": "Python 3.9.1 64-bit"
  }
 },
 "nbformat": 4,
 "nbformat_minor": 2
}