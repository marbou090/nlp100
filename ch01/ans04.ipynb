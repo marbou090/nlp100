{
 "cells": [
  {
   "cell_type": "code",
   "execution_count": 1,
   "metadata": {},
   "outputs": [],
   "source": [
    "txt = \"Hi He Lied Because Boron Could Not Oxidize Fluorine. New Nations Might Also Sign Peace Security Clause. Arthur King Can.\""
   ]
  },
  {
   "cell_type": "code",
   "execution_count": 10,
   "metadata": {},
   "outputs": [
    {
     "output_type": "stream",
     "name": "stdout",
     "text": "{'Hi': 2, 'H': 1, 'Li': 2, 'Be': 2, 'Bo': 2, 'C': 1, 'N': 1, 'O': 1, 'F': 1, 'Na': 2, 'Mi': 2, 'Al': 2, 'Si': 2, 'Pe': 2, 'S': 1, 'Ar': 2, 'Ki': 2}\n"
    }
   ],
   "source": [
    "sptxt = txt.split(\" \")\n",
    "d = {}\n",
    "for i in range(len(sptxt)):\n",
    "    if i in [1,5,6,7,8,9,15,16,19]:\n",
    "        din = {(sptxt[i])[0] : 1}\n",
    "        d = d|din\n",
    "    else:\n",
    "        din = {(sptxt[i])[0]+(sptxt[i])[1] : 2}\n",
    "        d = d|din\n",
    "print(d)"
   ]
  },
  {
   "cell_type": "code",
   "execution_count": null,
   "metadata": {},
   "outputs": [],
   "source": []
  }
 ],
 "metadata": {
  "language_info": {
   "codemirror_mode": {
    "name": "ipython",
    "version": 3
   },
   "file_extension": ".py",
   "mimetype": "text/x-python",
   "name": "python",
   "nbconvert_exporter": "python",
   "pygments_lexer": "ipython3",
   "version": "3.9.1-final"
  },
  "orig_nbformat": 2,
  "kernelspec": {
   "name": "python39164bit401f1b3e3a4043a4bd0aa1286659f779",
   "display_name": "Python 3.9.1 64-bit"
  }
 },
 "nbformat": 4,
 "nbformat_minor": 2
}