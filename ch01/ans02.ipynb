{
 "cells": [
  {
   "cell_type": "code",
   "execution_count": 8,
   "metadata": {},
   "outputs": [
    {
     "output_type": "stream",
     "name": "stdout",
     "text": "パタトクカシーー\n"
    }
   ],
   "source": [
    "txt1 = \"パトカー\"\n",
    "t1 = 0\n",
    "txt2 = \"タクシー\"\n",
    "t2 = 0\n",
    "txt = \"\"\n",
    "for i in range(8):\n",
    "    if i%2 == 0:\n",
    "        txt = txt+txt1[t1]\n",
    "        t1 = t1+1\n",
    "    if i%2 == 1:\n",
    "        txt = txt+txt2[t2]\n",
    "        t2 = t2+1\n",
    "\n",
    "print(txt)"
   ]
  },
  {
   "cell_type": "code",
   "execution_count": null,
   "metadata": {},
   "outputs": [],
   "source": []
  }
 ],
 "metadata": {
  "language_info": {
   "codemirror_mode": {
    "name": "ipython",
    "version": 3
   },
   "file_extension": ".py",
   "mimetype": "text/x-python",
   "name": "python",
   "nbconvert_exporter": "python",
   "pygments_lexer": "ipython3",
   "version": "3.9.1-final"
  },
  "orig_nbformat": 2,
  "kernelspec": {
   "name": "python39164bit401f1b3e3a4043a4bd0aa1286659f779",
   "display_name": "Python 3.9.1 64-bit"
  }
 },
 "nbformat": 4,
 "nbformat_minor": 2
}