{
 "cells": [
  {
   "cell_type": "code",
   "execution_count": 1,
   "source": [
    "txt = 'I couldn’t believe that I could actually understand what I was reading : the phenomenal power of the human mind .'"
   ],
   "outputs": [],
   "metadata": {}
  },
  {
   "cell_type": "code",
   "execution_count": 4,
   "source": [
    "import random\r\n",
    "\r\n",
    "def shaffleword(txt):\r\n",
    "    if(len(txt)<=4):\r\n",
    "        return txt[0]+txt[len(txt)-1]\r\n",
    "    first_word = txt[0]\r\n",
    "    last_word = txt[-1]\r\n",
    "\r\n",
    "    sr = ''.join(random.sample(txt[1:-1], len(txt)-2))\r\n",
    "\r\n",
    "    return first_word+sr+last_word\r\n",
    "\r\n"
   ],
   "outputs": [],
   "metadata": {}
  },
  {
   "cell_type": "code",
   "execution_count": 5,
   "source": [
    "print(shaffleword(txt))"
   ],
   "outputs": [
    {
     "output_type": "stream",
     "name": "stdout",
     "text": [
      "IopI e wa sadtplea ac  ei dn uldnmvugrttlocteunu hnwhehwdraebaae ’r mtndmi hn Ia :tnh yiet oah odoles uc  etllfn.\n"
     ]
    }
   ],
   "metadata": {}
  },
  {
   "cell_type": "code",
   "execution_count": null,
   "source": [],
   "outputs": [],
   "metadata": {}
  }
 ],
 "metadata": {
  "orig_nbformat": 4,
  "language_info": {
   "name": "python",
   "version": "3.7.3",
   "mimetype": "text/x-python",
   "codemirror_mode": {
    "name": "ipython",
    "version": 3
   },
   "pygments_lexer": "ipython3",
   "nbconvert_exporter": "python",
   "file_extension": ".py"
  },
  "kernelspec": {
   "name": "python3",
   "display_name": "Python 3.7.3 64-bit ('base': conda)"
  },
  "interpreter": {
   "hash": "6ad2903d9f8eb78095a8e1054d3b7d96029c25240c1559c5c7674409ebbac066"
  }
 },
 "nbformat": 4,
 "nbformat_minor": 2
}